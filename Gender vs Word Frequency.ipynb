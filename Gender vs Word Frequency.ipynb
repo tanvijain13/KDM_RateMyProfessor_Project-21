{
 "cells": [
  {
   "cell_type": "code",
   "execution_count": 32,
   "metadata": {},
   "outputs": [],
   "source": [
    "import scattertext as st\n",
    "import spacy\n",
    "import pandas as pd"
   ]
  },
  {
   "cell_type": "code",
   "execution_count": 33,
   "metadata": {},
   "outputs": [],
   "source": [
    "df = pd.read_csv('STEM_SampleWithUpdatedData.csv')\n",
    "\n",
    "#Removes unkown genders\n",
    "df_male_female = df[df['Gender'].str.contains(\n",
    "                'male|female', na=False)]"
   ]
  },
  {
   "cell_type": "code",
   "execution_count": 34,
   "metadata": {},
   "outputs": [],
   "source": [
    "#Establishes stopwords\n",
    "with open('stopwords.txt', 'r') as f:\n",
    "    str_f = f.read()\n",
    "    stopwords_file = set(str_f.split('\\n'))\n",
    "nlp.Defaults.stop_words |= stopwords_file\n",
    "\n",
    "from nltk.corpus import stopwords\n",
    "stopWords = set(stopwords.words('english'))\n",
    "nlp.Defaults.stop_words |= stopWords"
   ]
  },
  {
   "cell_type": "code",
   "execution_count": 35,
   "metadata": {},
   "outputs": [],
   "source": [
    "nlp = spacy.load('en')"
   ]
  },
  {
   "cell_type": "code",
   "execution_count": 36,
   "metadata": {},
   "outputs": [],
   "source": [
    "#Builds corpus (Gender v. Comments), and removes stopwords\n",
    "corpus = st.CorpusFromPandas(df_male_female, \n",
    "                            category_col='Gender',\n",
    "                            text_col='Comments',\n",
    "                            nlp=nlp).build().remove_terms(nlp.Defaults.stop_words, ignore_absences=True)"
   ]
  },
  {
   "cell_type": "code",
   "execution_count": 37,
   "metadata": {},
   "outputs": [
    {
     "data": {
      "text/plain": [
       "1299630"
      ]
     },
     "execution_count": 37,
     "metadata": {},
     "output_type": "execute_result"
    }
   ],
   "source": [
    "#Builds html file\n",
    "html = st.produce_scattertext_explorer(corpus,\n",
    "          category='male',\n",
    "          category_name='Male',\n",
    "          not_category_name='Female',\n",
    "          width_in_pixels=1000,\n",
    "          height_in_pixels=700,\n",
    "          metadata=df_male_female['Name'])\n",
    "open(\"Gender-Vs-Word-Frequency.html\", 'wb').write(html.encode('utf-8'))"
   ]
  },
  {
   "cell_type": "code",
   "execution_count": null,
   "metadata": {},
   "outputs": [],
   "source": []
  }
 ],
 "metadata": {
  "kernelspec": {
   "display_name": "Python 3",
   "language": "python",
   "name": "python3"
  },
  "language_info": {
   "codemirror_mode": {
    "name": "ipython",
    "version": 3
   },
   "file_extension": ".py",
   "mimetype": "text/x-python",
   "name": "python",
   "nbconvert_exporter": "python",
   "pygments_lexer": "ipython3",
   "version": "3.7.3"
  }
 },
 "nbformat": 4,
 "nbformat_minor": 4
}
