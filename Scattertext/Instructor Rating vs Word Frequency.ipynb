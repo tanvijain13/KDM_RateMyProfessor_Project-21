{
 "cells": [
  {
   "cell_type": "code",
   "execution_count": 1,
   "metadata": {},
   "outputs": [],
   "source": [
    "import pandas as pd\n",
    "\n",
    "df = pd.read_csv('STEM_SampleWithUpdatedData.csv')"
   ]
  },
  {
   "cell_type": "code",
   "execution_count": 2,
   "metadata": {},
   "outputs": [
    {
     "data": {
      "text/plain": [
       "<matplotlib.axes._subplots.AxesSubplot at 0x1c74107c630>"
      ]
     },
     "execution_count": 2,
     "metadata": {},
     "output_type": "execute_result"
    },
    {
     "data": {
      "image/png": "[encoded data removed]",
      "text/plain": [
       "<Figure size 432x288 with 1 Axes>"
      ]
     },
     "metadata": {
      "needs_background": "light"
     },
     "output_type": "display_data"
    }
   ],
   "source": [
    "# Helpful visual - Score distribution for instructors \n",
    "# Get an idea of how we should define our binary categories\n",
    "import seaborn as sns\n",
    "\n",
    "sns.distplot(df['Score'])"
   ]
  },
  {
   "cell_type": "code",
   "execution_count": 3,
   "metadata": {},
   "outputs": [],
   "source": [
    "# Convert Score values from string to float for analysis\n",
    "\n",
    "df['Score'] = df['Score'].astype(float)"
   ]
  },
  {
   "cell_type": "code",
   "execution_count": 4,
   "metadata": {},
   "outputs": [],
   "source": [
    "# Creating binary catagories for comparision\n",
    "# One binary category will be the x-axis, the other the y-axis\n",
    "# In this case, Scores will be converting into either 'High Rating' or 'Low Rating'\n",
    "\n",
    "df['Score'] = df['Score'].apply(lambda x: 'High Rating' if x > 4 else 'Low Rating')"
   ]
  },
  {
   "cell_type": "code",
   "execution_count": 5,
   "metadata": {},
   "outputs": [],
   "source": [
    "# NLP processing\n",
    "\n",
    "import spacy\n",
    "import scattertext"
   ]
  },
  {
   "cell_type": "code",
   "execution_count": 6,
   "metadata": {},
   "outputs": [],
   "source": [
    "nlp = spacy.load('en')"
   ]
  },
  {
   "cell_type": "code",
   "execution_count": 7,
   "metadata": {},
   "outputs": [],
   "source": [
    "# Stop words to ignore from NLTK\n",
    "from nltk.corpus import stopwords\n",
    "stopWords = set(stopwords.words('english'))\n",
    "nlp.Defaults.stop_words |= stopWords\n",
    "\n",
    "# Includes a text file to add custom stop words\n",
    "with open('stopwords.txt', 'r') as f:\n",
    "    str_f = f.read()\n",
    "    stopwords_file = set(str_f.split('\\n'))\n",
    "nlp.Defaults.stop_words |= stopwords_file"
   ]
  },
  {
   "cell_type": "code",
   "execution_count": 8,
   "metadata": {},
   "outputs": [],
   "source": [
    "# Defines corpus. Removes stop words\n",
    "# category_col : the column in our datafile holding our binary categories.\n",
    "# text_col : the column in our datafile holding our text to be analyzed \n",
    "\n",
    "corpus = (scattertext.CorpusFromPandas(df,\n",
    "                                       category_col='Score', \n",
    "                                       text_col='Comments',\n",
    "                                       nlp=nlp).build().remove_terms(nlp.Defaults.stop_words, ignore_absences=True))"
   ]
  },
  {
   "cell_type": "code",
   "execution_count": 9,
   "metadata": {},
   "outputs": [],
   "source": [
    "# Using Scattertext to visualize term associations \n",
    "# category_name : label the y-axis of html visual\n",
    "# not_category_name : label for the x-axis of html visual\n",
    "\n",
    "corpus_dataframe = df\n",
    "html = scattertext.produce_scattertext_explorer(corpus,\n",
    "                                                category='Low Rating',\n",
    "                                               category_name='Low Rating',\n",
    "                                               not_category_name='High Rating',\n",
    "                                               width_in_pixels=1000,\n",
    "                                               height_in_pixels=700,\n",
    "                                               metadata=corpus_dataframe['Name'])"
   ]
  },
  {
   "cell_type": "code",
   "execution_count": 10,
   "metadata": {},
   "outputs": [
    {
     "data": {
      "text/plain": [
       "1389630"
      ]
     },
     "execution_count": 10,
     "metadata": {},
     "output_type": "execute_result"
    }
   ],
   "source": [
    "# Saves html to file\n",
    "html_file_name = \"Instructor-Rating-Vs-Word-Frequency.html\"\n",
    "open(html_file_name, 'wb').write(html.encode('utf-8'))"
   ]
  }
 ],
 "metadata": {
  "kernelspec": {
   "display_name": "Python 3",
   "language": "python",
   "name": "python3"
  },
  "language_info": {
   "codemirror_mode": {
    "name": "ipython",
    "version": 3
   },
   "file_extension": ".py",
   "mimetype": "text/x-python",
   "name": "python",
   "nbconvert_exporter": "python",
   "pygments_lexer": "ipython3",
   "version": "3.7.3"
  }
 },
 "nbformat": 4,
 "nbformat_minor": 4
}
